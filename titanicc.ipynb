{
 "cells": [
  {
   "cell_type": "code",
   "id": "initial_id",
   "metadata": {
    "collapsed": true,
    "ExecuteTime": {
     "end_time": "2025-08-06T21:08:53.009379Z",
     "start_time": "2025-08-06T21:08:53.002793Z"
    }
   },
   "source": [
    "import numpy as np\n",
    "import pandas as pd\n",
    "import matplotlib. pyplot as plt\n",
    "from sklearn.metrics.pairwise import cosine_similarity\n",
    "from sklearn. feature_extraction. text import CountVectorizer\n",
    "from sklearn.decomposition import PCA\n",
    "from sklearn.cluster import HDBSCAN\n",
    "from sklearn.linear_model import LogisticRegression\n",
    "from sklearn.model_selection import train_test_split\n",
    "from sklearn.metrics import accuracy_score, confusion_matrix, classification_report\n"
   ],
   "outputs": [],
   "execution_count": 6
  },
  {
   "metadata": {
    "ExecuteTime": {
     "end_time": "2025-08-06T21:08:54.864713Z",
     "start_time": "2025-08-06T21:08:54.846237Z"
    }
   },
   "cell_type": "code",
   "source": [
    "# data analise :\n",
    "# extract\n",
    "# بارگذاری داده‌ها\n",
    "org_df = pd.read_csv(\"titanic (1).csv\")\n",
    "\n",
    "df = org_df[[\"Survived\",\"Pclass\",\"Sex\",\"Age\",\"SibSp\",\"Parch\",\"Cabin\"]].copy()\n",
    "\n",
    "# cleaning\n",
    "# داده خالی هر ستون\n",
    "missing_values = df.isnull().sum()\n",
    "print(missing_values)\n",
    "\n",
    "# جابگزینی داده خالی با nan\n",
    "df[\"Cabin\"] = df[\"Cabin\"].fillna(0)\n",
    "\n",
    "#جایگزاری داده های خالی با میانه سن\n",
    "df[\"Age\"] = df[\"Age\"].fillna(df[\"Age\"].median())\n",
    "\n",
    "print(df)"
   ],
   "id": "762aacaeae6d9564",
   "outputs": [
    {
     "name": "stdout",
     "output_type": "stream",
     "text": [
      "Survived      0\n",
      "Pclass        0\n",
      "Sex           0\n",
      "Age         177\n",
      "SibSp         0\n",
      "Parch         0\n",
      "Cabin       687\n",
      "dtype: int64\n",
      "     Survived  Pclass     Sex   Age  SibSp  Parch Cabin\n",
      "0           0       3    male  22.0      1      0     0\n",
      "1           1       1  female  38.0      1      0   C85\n",
      "2           1       3  female  26.0      0      0     0\n",
      "3           1       1  female  35.0      1      0  C123\n",
      "4           0       3    male  35.0      0      0     0\n",
      "..        ...     ...     ...   ...    ...    ...   ...\n",
      "886         0       2    male  27.0      0      0     0\n",
      "887         1       1  female  19.0      0      0   B42\n",
      "888         0       3  female  28.0      1      2     0\n",
      "889         1       1    male  26.0      0      0  C148\n",
      "890         0       3    male  32.0      0      0     0\n",
      "\n",
      "[891 rows x 7 columns]\n"
     ]
    }
   ],
   "execution_count": 7
  },
  {
   "metadata": {
    "ExecuteTime": {
     "end_time": "2025-08-06T21:08:58.252601Z",
     "start_time": "2025-08-06T21:08:58.134183Z"
    }
   },
   "cell_type": "code",
   "source": [
    "#  ساخت feature ترکیبی متنی\n",
    "df[\"Mix_feature\"] = (\n",
    "                     df[\"Pclass\"].astype(str) + \"_\" +\n",
    "                     df[\"Sex\"].astype(str) + \"_\" +\n",
    "                     df[\"Age\"].astype(str) + \"_\" +\n",
    "                     df[\"SibSp\"].astype(str) + \"_\" +\n",
    "                     df[\"Parch\"].astype(str)\n",
    "                     )\n",
    "\n",
    "#  تبدیل متون به بردار\n",
    "vectorizer = CountVectorizer()\n",
    "vector = vectorizer.fit_transform(df[\"Mix_feature\"])\n",
    "\n",
    "#  محاسبه شباهت cosine بین همه نمونه‌ها\n",
    "similarities = cosine_similarity(vector)\n",
    "\n",
    "# حذف داده مشابه\n",
    "to_drop = set()\n",
    "\n",
    "\n",
    "for i in range(similarities.shape[0]):\n",
    "    if i in to_drop:\n",
    "        continue\n",
    "    for j in range(i+1, similarities.shape[1]):\n",
    "        if similarities[i, j] > 0.9:\n",
    "            to_drop.add(j)\n",
    "\n",
    "#  حذف نمونه‌های مشابه\n",
    "df_clean = df.drop(index=df.index[list(to_drop)])\n",
    "\n",
    "print(df)"
   ],
   "id": "8de1b6726eee4803",
   "outputs": [
    {
     "name": "stdout",
     "output_type": "stream",
     "text": [
      "     Survived  Pclass     Sex   Age  SibSp  Parch Cabin        Mix_feature\n",
      "0           0       3    male  22.0      1      0     0    3_male_22.0_1_0\n",
      "1           1       1  female  38.0      1      0   C85  1_female_38.0_1_0\n",
      "2           1       3  female  26.0      0      0     0  3_female_26.0_0_0\n",
      "3           1       1  female  35.0      1      0  C123  1_female_35.0_1_0\n",
      "4           0       3    male  35.0      0      0     0    3_male_35.0_0_0\n",
      "..        ...     ...     ...   ...    ...    ...   ...                ...\n",
      "886         0       2    male  27.0      0      0     0    2_male_27.0_0_0\n",
      "887         1       1  female  19.0      0      0   B42  1_female_19.0_0_0\n",
      "888         0       3  female  28.0      1      2     0  3_female_28.0_1_2\n",
      "889         1       1    male  26.0      0      0  C148    1_male_26.0_0_0\n",
      "890         0       3    male  32.0      0      0     0    3_male_32.0_0_0\n",
      "\n",
      "[891 rows x 8 columns]\n"
     ]
    }
   ],
   "execution_count": 8
  },
  {
   "metadata": {
    "ExecuteTime": {
     "end_time": "2025-08-06T21:09:01.417369Z",
     "start_time": "2025-08-06T21:09:01.216563Z"
    }
   },
   "cell_type": "code",
   "source": [
    "\n",
    "# داده‌ی برداری‌شده بعد از حذف نمونه‌های خیلی شبیه\n",
    "vector_cleaned = vector[df_clean.index]\n",
    "\n",
    "pca = PCA(n_components=2)\n",
    "X_pca = pca.fit_transform(vector_cleaned.toarray())\n",
    "\n",
    "# خوشه‌بندی با HDBSCAN\n",
    "cluster = HDBSCAN()\n",
    "pred = cluster.fit_predict(vector_cleaned)\n",
    "\n",
    "\n",
    "# نمودار hbdscan\n",
    "plt.scatter(X_pca[:, 0], X_pca[:, 1], c=pred, cmap=\"tab10\", s=30)\n"
   ],
   "id": "32701476e30cca63",
   "outputs": [
    {
     "data": {
      "text/plain": [
       "<matplotlib.collections.PathCollection at 0x20f0afbe630>"
      ]
     },
     "execution_count": 9,
     "metadata": {},
     "output_type": "execute_result"
    },
    {
     "data": {
      "text/plain": [
       "<Figure size 640x480 with 1 Axes>"
      ],
      "image/png": "[encoded data removed]"
     },
     "metadata": {},
     "output_type": "display_data"
    }
   ],
   "execution_count": 9
  },
  {
   "metadata": {
    "ExecuteTime": {
     "end_time": "2025-08-06T21:09:05.583167Z",
     "start_time": "2025-08-06T21:09:05.557998Z"
    }
   },
   "cell_type": "code",
   "source": [
    "X = vector_cleaned\n",
    "y = df_clean[\"Survived\"]\n",
    "\n",
    "\n",
    "X_train, X_test, y_train, y_test = train_test_split(X, y, test_size=0.2, random_state=42)\n",
    "\n",
    "# model\n",
    "model = LogisticRegression()\n",
    "model.fit(X_train, y_train)\n",
    "\n",
    "# predict\n",
    "y_pred = model.predict(X_test)\n",
    "\n",
    "# ارزیابی\n",
    "acc = accuracy_score(y_test, y_pred)\n",
    "print(acc)\n",
    "\n",
    "print(classification_report(y_test, y_pred, target_names=[\"مرده\", \"زنده\"]))\n"
   ],
   "id": "4a6520af3a4e2bf8",
   "outputs": [
    {
     "name": "stdout",
     "output_type": "stream",
     "text": [
      "0.6421052631578947\n",
      "              precision    recall  f1-score   support\n",
      "\n",
      "        مرده       0.61      0.83      0.70        48\n",
      "        زنده       0.72      0.45      0.55        47\n",
      "\n",
      "    accuracy                           0.64        95\n",
      "   macro avg       0.67      0.64      0.63        95\n",
      "weighted avg       0.66      0.64      0.63        95\n",
      "\n"
     ]
    }
   ],
   "execution_count": 10
  },
  {
   "metadata": {},
   "cell_type": "code",
   "outputs": [],
   "execution_count": null,
   "source": "",
   "id": "77eabd99863f326c"
  }
 ],
 "metadata": {
  "kernelspec": {
   "display_name": "Python 3",
   "language": "python",
   "name": "python3"
  },
  "language_info": {
   "codemirror_mode": {
    "name": "ipython",
    "version": 2
   },
   "file_extension": ".py",
   "mimetype": "text/x-python",
   "name": "python",
   "nbconvert_exporter": "python",
   "pygments_lexer": "ipython2",
   "version": "2.7.6"
  }
 },
 "nbformat": 4,
 "nbformat_minor": 5
}
